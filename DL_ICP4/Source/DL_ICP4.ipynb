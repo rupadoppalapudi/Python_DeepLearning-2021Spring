{
  "nbformat": 4,
  "nbformat_minor": 0,
  "metadata": {
    "colab": {
      "name": "DL_ICP4.ipynb",
      "provenance": []
    },
    "kernelspec": {
      "name": "python3",
      "display_name": "Python 3"
    },
    "language_info": {
      "name": "python"
    }
  },
  "cells": [
    {
      "cell_type": "code",
      "metadata": {
        "id": "n9J3_rYCdaHI"
      },
      "source": [
        "# importing the required libraries\n",
        "# simple Convolutional Neural Networks (CNN) model for CIFAR-10\n",
        "import numpy\n",
        "from keras.datasets import cifar10\n",
        "from keras.models import Sequential\n",
        "from keras.layers import Dense\n",
        "from keras.layers import Dropout\n",
        "from keras.layers import Flatten\n",
        "from keras.constraints import maxnorm\n",
        "from keras.optimizers import SGD\n",
        "from keras.layers.convolutional import Conv2D\n",
        "from keras.layers.convolutional import MaxPooling2D\n",
        "from keras.utils import np_utils\n",
        "from keras import backend as K"
      ],
      "execution_count": 4,
      "outputs": []
    },
    {
      "cell_type": "code",
      "metadata": {
        "colab": {
          "base_uri": "https://localhost:8080/"
        },
        "id": "TG-ZP9KUd8Hd",
        "outputId": "3c60df41-c67e-4af3-b1cf-cdefee7c5933"
      },
      "source": [
        "# fix random seed for reproducibility\n",
        "seed = 7\n",
        "numpy.random.seed(seed)\n",
        "\n",
        "# load the cifar10 data\n",
        "(X_train, y_train), (X_test, y_test) = cifar10.load_data()"
      ],
      "execution_count": 5,
      "outputs": [
        {
          "output_type": "stream",
          "text": [
            "Downloading data from https://www.cs.toronto.edu/~kriz/cifar-10-python.tar.gz\n",
            "170500096/170498071 [==============================] - 4s 0us/step\n"
          ],
          "name": "stdout"
        }
      ]
    },
    {
      "cell_type": "code",
      "metadata": {
        "id": "sQmJEuPyfVgk"
      },
      "source": [
        "# normalize the inputs from 0-255 to 0.0-1.0\n",
        "X_train = X_train.astype('float32')\n",
        "X_test = X_test.astype('float32')\n",
        "X_train = X_train / 255.0\n",
        "X_test = X_test / 255.0\n",
        "\n",
        "# one hot encode outputs\n",
        "y_train = np_utils.to_categorical(y_train)\n",
        "y_test = np_utils.to_categorical(y_test)\n",
        "num_classes = y_test.shape[1]"
      ],
      "execution_count": 6,
      "outputs": []
    },
    {
      "cell_type": "code",
      "metadata": {
        "colab": {
          "base_uri": "https://localhost:8080/"
        },
        "id": "RR7P5C5Dflba",
        "outputId": "bf0cc9dc-3bd5-4903-fef0-b34caa51e85f"
      },
      "source": [
        "# Create the model\n",
        "model = Sequential()\n",
        "model.add(Conv2D(32, (3, 3), input_shape=X_train.shape[1:], padding='same', activation='relu', kernel_constraint=maxnorm(3)))\n",
        "model.add(Dropout(0.2))\n",
        "model.add(Conv2D(32, (3, 3), activation='relu', padding='same', kernel_constraint=maxnorm(3)))\n",
        "model.add(MaxPooling2D(pool_size=(2, 2)))\n",
        "model.add(Flatten())\n",
        "model.add(Dense(512, activation='relu', kernel_constraint=maxnorm(3)))\n",
        "model.add(Dropout(0.5))\n",
        "model.add(Dense(num_classes, activation='softmax'))\n",
        "\n",
        "# Compile model\n",
        "epochs = 5\n",
        "lrate = 0.01\n",
        "decay = lrate/epochs\n",
        "sgd = SGD(lr=lrate, momentum=0.9, decay=decay, nesterov=False)\n",
        "model.compile(loss='categorical_crossentropy', optimizer=sgd, metrics=['accuracy'])\n",
        "print(model.summary())"
      ],
      "execution_count": 7,
      "outputs": [
        {
          "output_type": "stream",
          "text": [
            "Model: \"sequential\"\n",
            "_________________________________________________________________\n",
            "Layer (type)                 Output Shape              Param #   \n",
            "=================================================================\n",
            "conv2d (Conv2D)              (None, 32, 32, 32)        896       \n",
            "_________________________________________________________________\n",
            "dropout (Dropout)            (None, 32, 32, 32)        0         \n",
            "_________________________________________________________________\n",
            "conv2d_1 (Conv2D)            (None, 32, 32, 32)        9248      \n",
            "_________________________________________________________________\n",
            "max_pooling2d (MaxPooling2D) (None, 16, 16, 32)        0         \n",
            "_________________________________________________________________\n",
            "flatten (Flatten)            (None, 8192)              0         \n",
            "_________________________________________________________________\n",
            "dense (Dense)                (None, 512)               4194816   \n",
            "_________________________________________________________________\n",
            "dropout_1 (Dropout)          (None, 512)               0         \n",
            "_________________________________________________________________\n",
            "dense_1 (Dense)              (None, 10)                5130      \n",
            "=================================================================\n",
            "Total params: 4,210,090\n",
            "Trainable params: 4,210,090\n",
            "Non-trainable params: 0\n",
            "_________________________________________________________________\n",
            "None\n"
          ],
          "name": "stdout"
        }
      ]
    },
    {
      "cell_type": "code",
      "metadata": {
        "colab": {
          "base_uri": "https://localhost:8080/"
        },
        "id": "Q7lw_gf4f5Re",
        "outputId": "328a9f72-f40f-49a8-a5ea-7f9669215e6e"
      },
      "source": [
        "# Fit the model\n",
        "model.fit(X_train, y_train, validation_data=(X_test, y_test), epochs=epochs, batch_size=32)"
      ],
      "execution_count": 8,
      "outputs": [
        {
          "output_type": "stream",
          "text": [
            "Epoch 1/5\n",
            "1563/1563 [==============================] - 207s 132ms/step - loss: 1.9426 - accuracy: 0.2962 - val_loss: 1.4816 - val_accuracy: 0.4746\n",
            "Epoch 2/5\n",
            "1563/1563 [==============================] - 208s 133ms/step - loss: 1.4700 - accuracy: 0.4696 - val_loss: 1.3254 - val_accuracy: 0.5221\n",
            "Epoch 3/5\n",
            "1563/1563 [==============================] - 208s 133ms/step - loss: 1.3358 - accuracy: 0.5193 - val_loss: 1.2470 - val_accuracy: 0.5512\n",
            "Epoch 4/5\n",
            "1563/1563 [==============================] - 209s 134ms/step - loss: 1.2442 - accuracy: 0.5552 - val_loss: 1.1840 - val_accuracy: 0.5774\n",
            "Epoch 5/5\n",
            "1563/1563 [==============================] - 211s 135ms/step - loss: 1.1976 - accuracy: 0.5724 - val_loss: 1.1428 - val_accuracy: 0.5923\n"
          ],
          "name": "stdout"
        },
        {
          "output_type": "execute_result",
          "data": {
            "text/plain": [
              "<tensorflow.python.keras.callbacks.History at 0x7f1922aef110>"
            ]
          },
          "metadata": {
            "tags": []
          },
          "execution_count": 8
        }
      ]
    },
    {
      "cell_type": "code",
      "metadata": {
        "colab": {
          "base_uri": "https://localhost:8080/"
        },
        "id": "H2DUitLMk7_k",
        "outputId": "9cf10373-63a9-49c6-e378-7fb1a2192ed8"
      },
      "source": [
        "# Final evaluation of the model\n",
        "scores = model.evaluate(X_test, y_test, verbose=0)\n",
        "print(\"Accuracy: %.2f%%\" % (scores[1]*100))"
      ],
      "execution_count": 9,
      "outputs": [
        {
          "output_type": "stream",
          "text": [
            "Accuracy: 59.23%\n"
          ],
          "name": "stdout"
        }
      ]
    },
    {
      "cell_type": "code",
      "metadata": {
        "id": "AQdYuskFlBs0"
      },
      "source": [
        "# adding layers as per the given instructions \n",
        "model_1 = Sequential()\n",
        "model_1.add(Conv2D(32, (3, 3), input_shape=(X_train.shape[1:]), padding='same', activation='relu'))\n",
        "model_1.add(Dropout(0.2))\n",
        "model_1.add(Conv2D(32, (3, 3), activation='relu', padding='same'))\n",
        "model_1.add(MaxPooling2D(pool_size=(2, 2)))\n",
        "model_1.add(Conv2D(64, (3, 3), activation='relu', padding='same'))\n",
        "model_1.add(Dropout(0.2))\n",
        "model_1.add(Conv2D(64, (3, 3), activation='relu', padding='same'))\n",
        "model_1.add(MaxPooling2D(pool_size=(2, 2)))\n",
        "model_1.add(Conv2D(128, (3, 3), activation='relu', padding='same'))\n",
        "model_1.add(Dropout(0.2))\n",
        "model_1.add(Conv2D(128, (3, 3), activation='relu', padding='same'))\n",
        "model_1.add(MaxPooling2D(pool_size=(2, 2)))\n",
        "model_1.add(Flatten())\n",
        "model_1.add(Dropout(0.2))\n",
        "model_1.add(Dense(1024, activation='relu', kernel_constraint=maxnorm(3)))\n",
        "model_1.add(Dropout(0.2))\n",
        "model_1.add(Dense(512, activation='relu', kernel_constraint=maxnorm(3)))\n",
        "model_1.add(Dropout(0.2))\n",
        "model_1.add(Dense(num_classes, activation='softmax'))"
      ],
      "execution_count": 11,
      "outputs": []
    },
    {
      "cell_type": "code",
      "metadata": {
        "colab": {
          "base_uri": "https://localhost:8080/"
        },
        "id": "tCl-hDsnlIBi",
        "outputId": "a1f28a8a-f260-4fd3-857a-1c887c9a30cb"
      },
      "source": [
        "epochs = 5\n",
        "lrate = 0.01\n",
        "decay = lrate/epochs\n",
        "sgd = SGD(lr=lrate, momentum=0.9, decay=decay, nesterov=False)\n",
        "model_1.compile(loss='categorical_crossentropy', optimizer=sgd, metrics=['accuracy'])\n",
        "print(model_1.summary())"
      ],
      "execution_count": 12,
      "outputs": [
        {
          "output_type": "stream",
          "text": [
            "Model: \"sequential_2\"\n",
            "_________________________________________________________________\n",
            "Layer (type)                 Output Shape              Param #   \n",
            "=================================================================\n",
            "conv2d_8 (Conv2D)            (None, 32, 32, 32)        896       \n",
            "_________________________________________________________________\n",
            "dropout_8 (Dropout)          (None, 32, 32, 32)        0         \n",
            "_________________________________________________________________\n",
            "conv2d_9 (Conv2D)            (None, 32, 32, 32)        9248      \n",
            "_________________________________________________________________\n",
            "max_pooling2d_4 (MaxPooling2 (None, 16, 16, 32)        0         \n",
            "_________________________________________________________________\n",
            "conv2d_10 (Conv2D)           (None, 16, 16, 64)        18496     \n",
            "_________________________________________________________________\n",
            "dropout_9 (Dropout)          (None, 16, 16, 64)        0         \n",
            "_________________________________________________________________\n",
            "conv2d_11 (Conv2D)           (None, 16, 16, 64)        36928     \n",
            "_________________________________________________________________\n",
            "max_pooling2d_5 (MaxPooling2 (None, 8, 8, 64)          0         \n",
            "_________________________________________________________________\n",
            "conv2d_12 (Conv2D)           (None, 8, 8, 128)         73856     \n",
            "_________________________________________________________________\n",
            "dropout_10 (Dropout)         (None, 8, 8, 128)         0         \n",
            "_________________________________________________________________\n",
            "conv2d_13 (Conv2D)           (None, 8, 8, 128)         147584    \n",
            "_________________________________________________________________\n",
            "max_pooling2d_6 (MaxPooling2 (None, 4, 4, 128)         0         \n",
            "_________________________________________________________________\n",
            "flatten_2 (Flatten)          (None, 2048)              0         \n",
            "_________________________________________________________________\n",
            "dropout_11 (Dropout)         (None, 2048)              0         \n",
            "_________________________________________________________________\n",
            "dense_5 (Dense)              (None, 1024)              2098176   \n",
            "_________________________________________________________________\n",
            "dropout_12 (Dropout)         (None, 1024)              0         \n",
            "_________________________________________________________________\n",
            "dense_6 (Dense)              (None, 512)               524800    \n",
            "_________________________________________________________________\n",
            "dropout_13 (Dropout)         (None, 512)               0         \n",
            "_________________________________________________________________\n",
            "dense_7 (Dense)              (None, 10)                5130      \n",
            "=================================================================\n",
            "Total params: 2,915,114\n",
            "Trainable params: 2,915,114\n",
            "Non-trainable params: 0\n",
            "_________________________________________________________________\n",
            "None\n"
          ],
          "name": "stdout"
        }
      ]
    },
    {
      "cell_type": "code",
      "metadata": {
        "colab": {
          "base_uri": "https://localhost:8080/"
        },
        "id": "XCB_aAWBlM0-",
        "outputId": "243d59dc-64be-40eb-8006-8bf82cb4408f"
      },
      "source": [
        "# training the model\n",
        "history=model_1.fit(X_train, y_train, validation_data=(X_test, y_test), epochs=epochs, batch_size=128)"
      ],
      "execution_count": 13,
      "outputs": [
        {
          "output_type": "stream",
          "text": [
            "Epoch 1/5\n",
            "391/391 [==============================] - 332s 846ms/step - loss: 2.1878 - accuracy: 0.1708 - val_loss: 1.8054 - val_accuracy: 0.3529\n",
            "Epoch 2/5\n",
            "391/391 [==============================] - 330s 843ms/step - loss: 1.7740 - accuracy: 0.3540 - val_loss: 1.5706 - val_accuracy: 0.4490\n",
            "Epoch 3/5\n",
            "391/391 [==============================] - 326s 833ms/step - loss: 1.5763 - accuracy: 0.4253 - val_loss: 1.4889 - val_accuracy: 0.4669\n",
            "Epoch 4/5\n",
            "391/391 [==============================] - 327s 837ms/step - loss: 1.4827 - accuracy: 0.4610 - val_loss: 1.4441 - val_accuracy: 0.4840\n",
            "Epoch 5/5\n",
            "391/391 [==============================] - 330s 844ms/step - loss: 1.4153 - accuracy: 0.4836 - val_loss: 1.3373 - val_accuracy: 0.5186\n"
          ],
          "name": "stdout"
        }
      ]
    },
    {
      "cell_type": "code",
      "metadata": {
        "colab": {
          "base_uri": "https://localhost:8080/"
        },
        "id": "DcfT-voztWjX",
        "outputId": "03a42d19-394c-4908-e5f5-39926da2ecd1"
      },
      "source": [
        "# evaluting the model and observing the performance changes\n",
        "scores_1 = model_1.evaluate(X_test, y_test, verbose=0)\n",
        "print(\"Accuracy after adding layers: %.2f%%\" % (scores_1[1]*100))"
      ],
      "execution_count": 24,
      "outputs": [
        {
          "output_type": "stream",
          "text": [
            "Accuracy after adding layers: 51.86%\n"
          ],
          "name": "stdout"
        }
      ]
    },
    {
      "cell_type": "code",
      "metadata": {
        "id": "Iiiq3IxQteTd"
      },
      "source": [
        "# saving the h5 model\n",
        "model_1.save('./model_1' + '.h5')   # h5 model"
      ],
      "execution_count": 26,
      "outputs": []
    },
    {
      "cell_type": "code",
      "metadata": {
        "colab": {
          "base_uri": "https://localhost:8080/",
          "height": 1000
        },
        "id": "1dxQNCnbtlAM",
        "outputId": "62e2e4a4-2796-43ac-8967-89f3e778c110"
      },
      "source": [
        "# Task 2\n",
        "# importing the required libraries\n",
        "import matplotlib.pyplot as mplt\n",
        "for i in range(0,4):\n",
        "    predicted_value = model.predict(X_test[[i],:])\n",
        "    predict_cls = model.predict_classes(X_test[[i],:])\n",
        "    actual_value = y_test[[i],:]\n",
        "    print(\"\\nActual Value for \" + str(i+1) + ' Image is :' + str(numpy.argmax(actual_value)))\n",
        "    print(\"Predicted Value for \" + str(i+1) + ' Image is : ' + str(predict_cls[0])+'\\n')\n",
        "    mplt.imshow(X_test[i,:,:])  \n",
        "    mplt.show()"
      ],
      "execution_count": 21,
      "outputs": [
        {
          "output_type": "stream",
          "text": [
            "\n",
            "Actual Value for 1 Image is :3\n",
            "Predicted Value for 1 Image is : 3\n",
            "\n"
          ],
          "name": "stdout"
        },
        {
          "output_type": "stream",
          "text": [
            "/usr/local/lib/python3.7/dist-packages/tensorflow/python/keras/engine/sequential.py:450: UserWarning: `model.predict_classes()` is deprecated and will be removed after 2021-01-01. Please use instead:* `np.argmax(model.predict(x), axis=-1)`,   if your model does multi-class classification   (e.g. if it uses a `softmax` last-layer activation).* `(model.predict(x) > 0.5).astype(\"int32\")`,   if your model does binary classification   (e.g. if it uses a `sigmoid` last-layer activation).\n",
            "  warnings.warn('`model.predict_classes()` is deprecated and '\n"
          ],
          "name": "stderr"
        },
        {
          "output_type": "display_data",
          "data": {
            "image/png": "[encoded data removed]",
            "text/plain": [
              "<Figure size 432x288 with 1 Axes>"
            ]
          },
          "metadata": {
            "tags": [],
            "needs_background": "light"
          }
        },
        {
          "output_type": "stream",
          "text": [
            "\n",
            "Actual Value for 2 Image is :8\n",
            "Predicted Value for 2 Image is : 1\n",
            "\n"
          ],
          "name": "stdout"
        },
        {
          "output_type": "display_data",
          "data": {
            "image/png": "[encoded data removed]",
            "text/plain": [
              "<Figure size 432x288 with 1 Axes>"
            ]
          },
          "metadata": {
            "tags": [],
            "needs_background": "light"
          }
        },
        {
          "output_type": "stream",
          "text": [
            "\n",
            "Actual Value for 3 Image is :8\n",
            "Predicted Value for 3 Image is : 8\n",
            "\n"
          ],
          "name": "stdout"
        },
        {
          "output_type": "display_data",
          "data": {
            "image/png": "[encoded data removed]",
            "text/plain": [
              "<Figure size 432x288 with 1 Axes>"
            ]
          },
          "metadata": {
            "tags": [],
            "needs_background": "light"
          }
        },
        {
          "output_type": "stream",
          "text": [
            "\n",
            "Actual Value for 4 Image is :0\n",
            "Predicted Value for 4 Image is : 8\n",
            "\n"
          ],
          "name": "stdout"
        },
        {
          "output_type": "display_data",
          "data": {
            "image/png": "[encoded data removed]",
            "text/plain": [
              "<Figure size 432x288 with 1 Axes>"
            ]
          },
          "metadata": {
            "tags": [],
            "needs_background": "light"
          }
        }
      ]
    },
    {
      "cell_type": "code",
      "metadata": {
        "id": "Air8eRAL7e_K"
      },
      "source": [
        ""
      ],
      "execution_count": null,
      "outputs": []
    },
    {
      "cell_type": "code",
      "metadata": {
        "colab": {
          "base_uri": "https://localhost:8080/",
          "height": 1000
        },
        "id": "NWBdXqw8uTKu",
        "outputId": "c264280b-d08c-4d12-e396-fe51728e8964"
      },
      "source": [
        ""
      ],
      "execution_count": 18,
      "outputs": [
        {
          "output_type": "stream",
          "text": [
            "\n",
            "Actual Value for 1 Image is :3\n",
            "Predicted Value for 1 Image is : 3\n",
            "\n"
          ],
          "name": "stdout"
        },
        {
          "output_type": "stream",
          "text": [
            "/usr/local/lib/python3.7/dist-packages/tensorflow/python/keras/engine/sequential.py:450: UserWarning: `model.predict_classes()` is deprecated and will be removed after 2021-01-01. Please use instead:* `np.argmax(model.predict(x), axis=-1)`,   if your model does multi-class classification   (e.g. if it uses a `softmax` last-layer activation).* `(model.predict(x) > 0.5).astype(\"int32\")`,   if your model does binary classification   (e.g. if it uses a `sigmoid` last-layer activation).\n",
            "  warnings.warn('`model.predict_classes()` is deprecated and '\n"
          ],
          "name": "stderr"
        },
        {
          "output_type": "display_data",
          "data": {
            "image/png": "[encoded data removed]",
            "text/plain": [
              "<Figure size 432x288 with 1 Axes>"
            ]
          },
          "metadata": {
            "tags": [],
            "needs_background": "light"
          }
        },
        {
          "output_type": "stream",
          "text": [
            "\n",
            "Actual Value for 2 Image is :8\n",
            "Predicted Value for 2 Image is : 1\n",
            "\n"
          ],
          "name": "stdout"
        },
        {
          "output_type": "display_data",
          "data": {
            "image/png": "[encoded data removed]",
            "text/plain": [
              "<Figure size 432x288 with 1 Axes>"
            ]
          },
          "metadata": {
            "tags": [],
            "needs_background": "light"
          }
        },
        {
          "output_type": "stream",
          "text": [
            "\n",
            "Actual Value for 3 Image is :8\n",
            "Predicted Value for 3 Image is : 8\n",
            "\n"
          ],
          "name": "stdout"
        },
        {
          "output_type": "display_data",
          "data": {
            "image/png": "[encoded data removed]",
            "text/plain": [
              "<Figure size 432x288 with 1 Axes>"
            ]
          },
          "metadata": {
            "tags": [],
            "needs_background": "light"
          }
        },
        {
          "output_type": "stream",
          "text": [
            "\n",
            "Actual Value for 4 Image is :0\n",
            "Predicted Value for 4 Image is : 8\n",
            "\n"
          ],
          "name": "stdout"
        },
        {
          "output_type": "display_data",
          "data": {
            "image/png": "[encoded data removed]",
            "text/plain": [
              "<Figure size 432x288 with 1 Axes>"
            ]
          },
          "metadata": {
            "tags": [],
            "needs_background": "light"
          }
        }
      ]
    },
    {
      "cell_type": "code",
      "metadata": {
        "colab": {
          "base_uri": "https://localhost:8080/",
          "height": 573
        },
        "id": "EBgk3NE8FeQ3",
        "outputId": "7ce96a81-d49c-4f70-9660-6f48f9154651"
      },
      "source": [
        "# Task 3\n",
        "# plot the accuracy curves using the history object\n",
        "mplt.plot(history.history['accuracy'])\n",
        "mplt.plot(history.history['val_accuracy'])\n",
        "mplt.title('model accuracy')\n",
        "mplt.ylabel('accuracy')\n",
        "mplt.xlabel('epoch')\n",
        "mplt.legend(['accuray', 'val_accuracy'], loc='lower right')\n",
        "mplt.show()\n",
        "\n",
        "# plot the loss curves using the history object\n",
        "mplt.plot(history.history['loss'])\n",
        "mplt.plot(history.history['val_loss'])\n",
        "mplt.title('model loss')\n",
        "mplt.ylabel('loss')\n",
        "mplt.xlabel('epoch')\n",
        "mplt.legend(['loss', 'val_loss'], loc='upper right')\n",
        "mplt.show()"
      ],
      "execution_count": 20,
      "outputs": [
        {
          "output_type": "display_data",
          "data": {
            "image/png": "[encoded data removed]",
            "text/plain": [
              "<Figure size 432x288 with 1 Axes>"
            ]
          },
          "metadata": {
            "tags": [],
            "needs_background": "light"
          }
        },
        {
          "output_type": "display_data",
          "data": {
            "image/png": "[encoded data removed]",
            "text/plain": [
              "<Figure size 432x288 with 1 Axes>"
            ]
          },
          "metadata": {
            "tags": [],
            "needs_background": "light"
          }
        }
      ]
    },
    {
      "cell_type": "code",
      "metadata": {
        "colab": {
          "base_uri": "https://localhost:8080/"
        },
        "id": "lBwCTvh57ipf",
        "outputId": "f1426997-5130-490d-d714-6d5d4faf2f76"
      },
      "source": [
        "#Bonus Question\n",
        "\n",
        "# importing the required libraries\n",
        "from keras import models\n",
        "model_saved = models.load_model('model_1.h5')\n",
        "\n",
        "# predicting the first 4 images of the test data \n",
        "for i in range(0,4):\n",
        "    predicted_value = model_saved.predict(X_test[[i],:])\n",
        "    predict_cls = model_saved.predict_classes(X_test[[i],:])\n",
        "    actual_value = y_test[[i],:]\n",
        "    print(\"\\nActual Value for \" + str(i+1) + ' Image is :' + str(numpy.argmax(actual_value)))\n",
        "    print(\"Predicted Value for \" + str(i+1) + ' Image is : ' + str(predict_cls[0])+'\\n')"
      ],
      "execution_count": 23,
      "outputs": [
        {
          "output_type": "stream",
          "text": [
            "/usr/local/lib/python3.7/dist-packages/tensorflow/python/keras/engine/sequential.py:450: UserWarning: `model.predict_classes()` is deprecated and will be removed after 2021-01-01. Please use instead:* `np.argmax(model.predict(x), axis=-1)`,   if your model does multi-class classification   (e.g. if it uses a `softmax` last-layer activation).* `(model.predict(x) > 0.5).astype(\"int32\")`,   if your model does binary classification   (e.g. if it uses a `sigmoid` last-layer activation).\n",
            "  warnings.warn('`model.predict_classes()` is deprecated and '\n"
          ],
          "name": "stderr"
        },
        {
          "output_type": "stream",
          "text": [
            "\n",
            "Actual Value for 1 Image is :3\n",
            "Predicted Value for 1 Image is : 3\n",
            "\n",
            "\n",
            "Actual Value for 2 Image is :8\n",
            "Predicted Value for 2 Image is : 1\n",
            "\n",
            "\n",
            "Actual Value for 3 Image is :8\n",
            "Predicted Value for 3 Image is : 8\n",
            "\n",
            "\n",
            "Actual Value for 4 Image is :0\n",
            "Predicted Value for 4 Image is : 8\n",
            "\n"
          ],
          "name": "stdout"
        }
      ]
    }
  ]
}