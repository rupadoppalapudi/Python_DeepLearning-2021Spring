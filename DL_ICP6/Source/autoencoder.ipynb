{
 "cells": [
  {
   "cell_type": "code",
   "execution_count": 1,
   "id": "a45dc4f7",
   "metadata": {},
   "outputs": [
    {
     "name": "stderr",
     "output_type": "stream",
     "text": [
      "Using TensorFlow backend.\n"
     ]
    },
    {
     "name": "stdout",
     "output_type": "stream",
     "text": [
      "Train on 60000 samples, validate on 10000 samples\n",
      "Epoch 1/5\n",
      "60000/60000 [==============================] - 4s 70us/step - loss: 0.5312 - val_loss: 0.4669\n",
      "Epoch 2/5\n",
      "60000/60000 [==============================] - 3s 56us/step - loss: 0.4287 - val_loss: 0.4071\n",
      "Epoch 3/5\n",
      "60000/60000 [==============================] - 3s 57us/step - loss: 0.3955 - val_loss: 0.3876\n",
      "Epoch 4/5\n",
      "60000/60000 [==============================] - 3s 55us/step - loss: 0.3778 - val_loss: 0.3717\n",
      "Epoch 5/5\n",
      "60000/60000 [==============================] - 3s 47us/step - loss: 0.3633 - val_loss: 0.3588\n"
     ]
    }
   ],
   "source": [
    "from keras.layers import Input, Dense\n",
    "from keras.models import Model\n",
    "\n",
    "# this is the size of our encoded representations\n",
    "encoding_dim = 32  # 32 floats -> compression of factor 24.5, assuming the input is 784 floats\n",
    "\n",
    "# this is our input placeholder\n",
    "input_img = Input(shape=(784,))\n",
    "# \"encoded\" is the encoded representation of the input\n",
    "encoded = Dense(encoding_dim, activation='relu')(input_img)\n",
    "# \"decoded\" is the lossy reconstruction of the input\n",
    "decoded = Dense(784, activation='sigmoid')(encoded)\n",
    "# this model maps an input to its reconstruction\n",
    "autoencoder = Model(input_img, decoded)\n",
    "# this model maps an input to its encoded representation\n",
    "autoencoder.compile(optimizer='adadelta', loss='binary_crossentropy')\n",
    "from keras.datasets import mnist, fashion_mnist\n",
    "import numpy as np\n",
    "(x_train, y_train), (x_test, y_test) = fashion_mnist.load_data()\n",
    "x_train = x_train.astype('float32') / 255.\n",
    "x_test = x_test.astype('float32') / 255.\n",
    "x_train = x_train.reshape((len(x_train), np.prod(x_train.shape[1:])))\n",
    "x_test = x_test.reshape((len(x_test), np.prod(x_test.shape[1:])))\n",
    "\n",
    "autoencoder.fit(x_train, x_train,\n",
    "                epochs=5,\n",
    "                batch_size=256,\n",
    "                shuffle=True,\n",
    "                validation_data=(x_test, x_test))\n",
    "\n",
    "# predicting the test data\n",
    "prediction = autoencoder.predict(x_test)"
   ]
  },
  {
   "cell_type": "code",
   "execution_count": 3,
   "id": "98f5e423",
   "metadata": {},
   "outputs": [
    {
     "data": {
      "image/png": "[encoded data removed]",
      "text/plain": [
       "<Figure size 432x288 with 1 Axes>"
      ]
     },
     "metadata": {
      "needs_background": "light"
     },
     "output_type": "display_data"
    }
   ],
   "source": [
    "# visualizing the input image\n",
    "from matplotlib import pyplot as mplt\n",
    "mplt.imshow(x_test[5].reshape(28, 28))\n",
    "mplt.show()"
   ]
  },
  {
   "cell_type": "code",
   "execution_count": 4,
   "id": "9942a323",
   "metadata": {},
   "outputs": [
    {
     "data": {
      "image/png": "[encoded data removed]",
      "text/plain": [
       "<Figure size 432x288 with 1 Axes>"
      ]
     },
     "metadata": {
      "needs_background": "light"
     },
     "output_type": "display_data"
    }
   ],
   "source": [
    "# visualizing the reconstructed Image\n",
    "from matplotlib import pyplot as mplt\n",
    "mplt.imshow(prediction[5].reshape(28, 28))\n",
    "mplt.show()"
   ]
  },
  {
   "cell_type": "markdown",
   "id": "57ed0de5",
   "metadata": {},
   "source": [
    "1. Add one more hidden layer to autoencoder"
   ]
  },
  {
   "cell_type": "code",
   "execution_count": 6,
   "id": "d6bd46c7",
   "metadata": {},
   "outputs": [],
   "source": [
    "# this is our input placeholder\n",
    "input_img = Input(shape=(784,))\n",
    "\n",
    "# adding one more hidden layer to encoding\n",
    "enc_hidden_layer = Dense(512, activation='relu')(input_img)\n",
    "# \"encoded\" is the encoded representation of the input\n",
    "encoded = Dense(encoding_dim, activation='relu')(enc_hidden_layer)\n",
    "\n",
    "# adding hidden layer to decoding\n",
    "dec_hidden_layer = Dense(512, activation='relu')(encoded)\n",
    "# \"decoded\" is the lossy reconstruction of the input\n",
    "decoded = Dense(784, activation='sigmoid')(dec_hidden_layer)\n",
    "\n",
    "# this model maps an input to its reconstruction\n",
    "autoencoder = Model(input_img, decoded)\n",
    "# this model maps an input to its encoded representation\n",
    "autoencoder.compile(optimizer='adadelta', loss='binary_crossentropy', metrics=['accuracy'])\n",
    "\n",
    "from keras.datasets import mnist, fashion_mnist\n",
    "import numpy as np\n",
    "\n",
    "(x_train, y_train), (x_test, y_test) = fashion_mnist.load_data()\n",
    "\n",
    "# preparing train and test data by converting into float & Scaling Data\n",
    "x_train = x_train.astype('float32') / 255.\n",
    "x_test = x_test.astype('float32') / 255.\n",
    "x_train = x_train.reshape((len(x_train), np.prod(x_train.shape[1:])))\n",
    "x_test = x_test.reshape((len(x_test), np.prod(x_test.shape[1:])))"
   ]
  },
  {
   "cell_type": "code",
   "execution_count": 7,
   "id": "383efb43",
   "metadata": {},
   "outputs": [
    {
     "name": "stdout",
     "output_type": "stream",
     "text": [
      "Train on 60000 samples, validate on 10000 samples\n",
      "Epoch 1/5\n",
      "60000/60000 [==============================] - 14s 237us/step - loss: 0.4759 - accuracy: 0.4661 - val_loss: 0.3908 - val_accuracy: 0.4904\n",
      "Epoch 2/5\n",
      "60000/60000 [==============================] - 13s 225us/step - loss: 0.3765 - accuracy: 0.4933 - val_loss: 0.3640 - val_accuracy: 0.4960\n",
      "Epoch 3/5\n",
      "60000/60000 [==============================] - 12s 198us/step - loss: 0.3563 - accuracy: 0.4976 - val_loss: 0.3474 - val_accuracy: 0.4959\n",
      "Epoch 4/5\n",
      "60000/60000 [==============================] - 12s 207us/step - loss: 0.3413 - accuracy: 0.5003 - val_loss: 0.3373 - val_accuracy: 0.5021\n",
      "Epoch 5/5\n",
      "60000/60000 [==============================] - 15s 246us/step - loss: 0.3304 - accuracy: 0.5021 - val_loss: 0.3363 - val_accuracy: 0.4962\n"
     ]
    }
   ],
   "source": [
    "# training the model\n",
    "autoencoder.fit(x_train, x_train,  # fitting the model\n",
    "                epochs=5,\n",
    "                batch_size=256,\n",
    "                shuffle=True,\n",
    "                validation_data=(x_test, x_test))\n",
    "\n",
    "# predicting the test data\n",
    "prediction = autoencoder.predict(x_test)"
   ]
  },
  {
   "cell_type": "markdown",
   "id": "2c9fdc8b",
   "metadata": {},
   "source": [
    "# 2. Do the prediction on the test data and then visualize the reconstructed version of that test data.\n",
    "# Also, visualize the same test data before reconstruction using Matplotlib"
   ]
  },
  {
   "cell_type": "code",
   "execution_count": 17,
   "id": "575ebb1d",
   "metadata": {},
   "outputs": [
    {
     "data": {
      "image/png": "[encoded data removed]",
      "text/plain": [
       "<Figure size 432x288 with 1 Axes>"
      ]
     },
     "metadata": {
      "needs_background": "light"
     },
     "output_type": "display_data"
    }
   ],
   "source": [
    "# visualizing the input Image\n",
    "from matplotlib import pyplot as mplt\n",
    "mplt.imshow(x_test[5].reshape(28, 28))\n",
    "mplt.show()"
   ]
  },
  {
   "cell_type": "code",
   "execution_count": 18,
   "id": "d2fb8e75",
   "metadata": {},
   "outputs": [
    {
     "data": {
      "image/png": "[encoded data removed]",
      "text/plain": [
       "<Figure size 432x288 with 1 Axes>"
      ]
     },
     "metadata": {
      "needs_background": "light"
     },
     "output_type": "display_data"
    }
   ],
   "source": [
    "# visualizing one of the reconstructed version of the test data\n",
    "from matplotlib import pyplot as mplt\n",
    "mplt.imshow(prediction[5].reshape(28, 28))\n",
    "mplt.show()"
   ]
  },
  {
   "cell_type": "markdown",
   "id": "bd897516",
   "metadata": {},
   "source": [
    "# 3. Repeat the question 2 on the denoisening autoencoder"
   ]
  },
  {
   "cell_type": "code",
   "execution_count": 9,
   "id": "476e0e9c",
   "metadata": {},
   "outputs": [
    {
     "name": "stdout",
     "output_type": "stream",
     "text": [
      "Train on 60000 samples, validate on 10000 samples\n",
      "Epoch 1/10\n",
      "60000/60000 [==============================] - 15s 255us/step - loss: 0.3298 - accuracy: 0.5021 - val_loss: 0.3157 - val_accuracy: 0.0000e+00\n",
      "Epoch 2/10\n",
      "60000/60000 [==============================] - 15s 249us/step - loss: 0.3256 - accuracy: 0.5027 - val_loss: 0.3096 - val_accuracy: 0.0000e+00\n",
      "Epoch 3/10\n",
      "60000/60000 [==============================] - 14s 239us/step - loss: 0.3231 - accuracy: 0.5030 - val_loss: 0.3068 - val_accuracy: 0.0000e+00\n",
      "Epoch 4/10\n",
      "60000/60000 [==============================] - 15s 248us/step - loss: 0.3212 - accuracy: 0.5033 - val_loss: 0.3060 - val_accuracy: 0.0000e+00\n",
      "Epoch 5/10\n",
      "60000/60000 [==============================] - 14s 238us/step - loss: 0.3197 - accuracy: 0.5035 - val_loss: 0.3018 - val_accuracy: 0.0000e+00\n",
      "Epoch 6/10\n",
      "60000/60000 [==============================] - 12s 206us/step - loss: 0.3184 - accuracy: 0.5037 - val_loss: 0.3000 - val_accuracy: 0.0000e+00\n",
      "Epoch 7/10\n",
      "60000/60000 [==============================] - 14s 241us/step - loss: 0.3171 - accuracy: 0.5039 - val_loss: 0.3002 - val_accuracy: 0.0000e+00\n",
      "Epoch 8/10\n",
      "60000/60000 [==============================] - 17s 291us/step - loss: 0.3159 - accuracy: 0.5041 - val_loss: 0.2973 - val_accuracy: 0.0000e+00\n",
      "Epoch 9/10\n",
      "60000/60000 [==============================] - 14s 229us/step - loss: 0.3150 - accuracy: 0.5042 - val_loss: 0.2978 - val_accuracy: 0.0000e+00\n",
      "Epoch 10/10\n",
      "60000/60000 [==============================] - 13s 221us/step - loss: 0.3138 - accuracy: 0.5044 - val_loss: 0.2945 - val_accuracy: 0.0000e+00\n"
     ]
    }
   ],
   "source": [
    "# introducing noise to the train and test data\n",
    "noise_factor = 0.5\n",
    "x_train_noisy = x_train + noise_factor * np.random.normal(loc=0.0, scale=1.0, size=x_train.shape)\n",
    "x_test_noisy = x_test + noise_factor * np.random.normal(loc=0.0, scale=1.0, size=x_test.shape)\n",
    "\n",
    "# training the model\n",
    "history = autoencoder.fit(x_train_noisy, x_train,  # fitting the model\n",
    "                epochs=10,\n",
    "                batch_size=256,\n",
    "                shuffle=True,\n",
    "                validation_data=(x_test_noisy, x_test_noisy))"
   ]
  },
  {
   "cell_type": "code",
   "execution_count": 10,
   "id": "e60c5bd1",
   "metadata": {},
   "outputs": [
    {
     "data": {
      "image/png": "[encoded data removed]",
      "text/plain": [
       "<Figure size 432x288 with 1 Axes>"
      ]
     },
     "metadata": {
      "needs_background": "light"
     },
     "output_type": "display_data"
    }
   ],
   "source": [
    "# plot before applying Noise to data\n",
    "from matplotlib import pyplot as mplt\n",
    "mplt.imshow(x_train[5].reshape(28,28))\n",
    "mplt.show()"
   ]
  },
  {
   "cell_type": "code",
   "execution_count": 11,
   "id": "28cb2e28",
   "metadata": {},
   "outputs": [
    {
     "data": {
      "image/png": "[encoded data removed]",
      "text/plain": [
       "<Figure size 432x288 with 1 Axes>"
      ]
     },
     "metadata": {
      "needs_background": "light"
     },
     "output_type": "display_data"
    }
   ],
   "source": [
    "# plot after Applying Noise to data\n",
    "from matplotlib import pyplot as mplt\n",
    "mplt.imshow(x_train_noisy[5].reshape(28,28))\n",
    "mplt.show()"
   ]
  },
  {
   "cell_type": "code",
   "execution_count": 12,
   "id": "81d1d31e",
   "metadata": {},
   "outputs": [
    {
     "data": {
      "image/png": "[encoded data removed]",
      "text/plain": [
       "<Figure size 432x288 with 1 Axes>"
      ]
     },
     "metadata": {
      "needs_background": "light"
     },
     "output_type": "display_data"
    }
   ],
   "source": [
    "# predicting the test data\n",
    "prediction = autoencoder.predict(x_test_noisy) #prediction\n",
    "\n",
    "# predicted input image after adding Noise\n",
    "from matplotlib import pyplot as mplt\n",
    "mplt.imshow(x_test_noisy[5].reshape(28,28))\n",
    "mplt.show()"
   ]
  },
  {
   "cell_type": "code",
   "execution_count": 13,
   "id": "ad9472c6",
   "metadata": {},
   "outputs": [
    {
     "data": {
      "image/png": "[encoded data removed]",
      "text/plain": [
       "<Figure size 432x288 with 1 Axes>"
      ]
     },
     "metadata": {
      "needs_background": "light"
     },
     "output_type": "display_data"
    }
   ],
   "source": [
    "# visualizing one of the reconstructed version of the test data of denoisening autoencoder\n",
    "from matplotlib import pyplot as mplt\n",
    "mplt.imshow(prediction[5].reshape(28,28))\n",
    "mplt.show()"
   ]
  },
  {
   "cell_type": "markdown",
   "id": "6030216d",
   "metadata": {},
   "source": [
    "# 4. plot loss and accuracy using the history object"
   ]
  },
  {
   "cell_type": "code",
   "execution_count": 14,
   "id": "b407c5a2",
   "metadata": {},
   "outputs": [
    {
     "data": {
      "text/plain": [
       "['loss', 'accuracy']"
      ]
     },
     "execution_count": 14,
     "metadata": {},
     "output_type": "execute_result"
    }
   ],
   "source": [
    "autoencoder.metrics_names"
   ]
  },
  {
   "cell_type": "code",
   "execution_count": 15,
   "id": "ef4c2682",
   "metadata": {},
   "outputs": [
    {
     "data": {
      "image/png": "[encoded data removed]",
      "text/plain": [
       "<Figure size 432x288 with 1 Axes>"
      ]
     },
     "metadata": {
      "needs_background": "light"
     },
     "output_type": "display_data"
    }
   ],
   "source": [
    "import matplotlib.pyplot as mplt\n",
    "mplt.plot(history.history['accuracy'])\n",
    "mplt.plot(history.history['loss'])\n",
    "mplt.title('model accuracy vs loss')\n",
    "mplt.xlabel('epoch')\n",
    "mplt.legend(['accuray','loss'], loc='upper left')\n",
    "mplt.show()"
   ]
  },
  {
   "cell_type": "markdown",
   "id": "955d58b9",
   "metadata": {},
   "source": [
    "# Bonus question\n",
    "# 1. Visualize the compressed version of the input data in the middle layer"
   ]
  },
  {
   "cell_type": "code",
   "execution_count": 16,
   "id": "b7f2ff89",
   "metadata": {},
   "outputs": [
    {
     "data": {
      "image/png": "[encoded data removed]",
      "text/plain": [
       "<Figure size 432x288 with 1 Axes>"
      ]
     },
     "metadata": {
      "needs_background": "light"
     },
     "output_type": "display_data"
    }
   ],
   "source": [
    "# this is our input placeholder\n",
    "input_img = Input(shape=(784,))\n",
    "# \"encoded\" is the encoded representation of the input\n",
    "encoded = Dense(encoding_dim, activation='relu')(input_img)\n",
    "# \"decoded\" is the lossy reconstruction of the input\n",
    "decoded = Dense(784, activation='sigmoid')(encoded)\n",
    "\n",
    "encoder = Model(input_img, encoded)\n",
    "encoder.compile(optimizer='adadelta', loss='binary_crossentropy',metrics=['accuracy'])\n",
    "\n",
    "from keras.datasets import mnist, fashion_mnist\n",
    "import numpy as np\n",
    "\n",
    "(x_train, y_train), (x_test, y_test) = fashion_mnist.load_data()\n",
    "\n",
    "# preparing train and test data by converting into float & Scaling Data\n",
    "x_train = x_train.astype('float32') / 255.\n",
    "x_test = x_test.astype('float32') / 255.\n",
    "x_train = x_train.reshape((len(x_train), np.prod(x_train.shape[1:])))\n",
    "x_test = x_test.reshape((len(x_test), np.prod(x_test.shape[1:])))\n",
    "\n",
    "encoded_img = encoder.predict(x_test[[2],:])\n",
    "\n",
    "from matplotlib import pyplot as mplt\n",
    "mplt.imshow(encoded_img)\n",
    "mplt.show() "
   ]
  }
 ],
 "metadata": {
  "kernelspec": {
   "display_name": "Python 3",
   "language": "python",
   "name": "python3"
  },
  "language_info": {
   "codemirror_mode": {
    "name": "ipython",
    "version": 3
   },
   "file_extension": ".py",
   "mimetype": "text/x-python",
   "name": "python",
   "nbconvert_exporter": "python",
   "pygments_lexer": "ipython3",
   "version": "3.6.13"
  }
 },
 "nbformat": 4,
 "nbformat_minor": 5
}
